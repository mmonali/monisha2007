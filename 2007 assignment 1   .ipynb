{
 "cells": [
  {
   "cell_type": "code",
   "execution_count": 11,
   "metadata": {},
   "outputs": [
    {
     "name": "stdout",
     "output_type": "stream",
     "text": [
      "enter the principal amount:2000\n",
      "enter number of years:10\n",
      "enter rate of intrest:10\n",
      "simple intrest:2000.0\n"
     ]
    }
   ],
   "source": [
    "#simple intrest\n",
    "P=float(input(\"enter the principal amount:\"))\n",
    "N=float(input(\"enter number of years:\"))\n",
    "R=float(input(\"enter rate of intrest:\"))\n",
    "SI=(P*N*R)/100\n",
    "print(\"simple intrest:{}\".format(SI))\n"
   ]
  },
  {
   "cell_type": "code",
   "execution_count": 15,
   "metadata": {},
   "outputs": [
    {
     "name": "stdout",
     "output_type": "stream",
     "text": [
      "enter the radius:4\n",
      "area of circle is:50.352\n"
     ]
    }
   ],
   "source": [
    "#area of circle\n",
    "R=float(input(\"enter the radius:\"))\n",
    "pi=3.147\n",
    "area=pi*R*R\n",
    "print(\"area of circle is:{}\".format(area))"
   ]
  },
  {
   "cell_type": "code",
   "execution_count": 16,
   "metadata": {},
   "outputs": [
    {
     "name": "stdout",
     "output_type": "stream",
     "text": [
      "Enter first side: 5\n",
      "Enter second side: 6\n",
      "Enter third side: 7\n",
      "The area of the triangle is %0.2f:\n",
      "14.696938456699069\n"
     ]
    }
   ],
   "source": [
    "#area of triangle\n",
    "a=float(input('Enter first side: '))\n",
    "b=float(input('Enter second side: '))\n",
    "c=float(input('Enter third side: '))\n",
    "s = (a + b + c) / 2\n",
    "area = (s*(s-a)*(s-b)*(s-c)) ** 0.5\n",
    "print('The area of the triangle is %0.2f:' )\n",
    "print(area)"
   ]
  },
  {
   "cell_type": "code",
   "execution_count": 13,
   "metadata": {},
   "outputs": [
    {
     "name": "stdout",
     "output_type": "stream",
     "text": [
      "enter the width:3\n",
      "enter the height:2\n",
      "area of rectangle is:\n",
      "6.0\n"
     ]
    }
   ],
   "source": [
    "#area of rectagle\n",
    "w=float(input(\"enter the width:\"))\n",
    "h=float(input(\"enter the height:\"))\n",
    "area=w*h\n",
    "print(\"area of rectangle is:\")\n",
    "print(area)"
   ]
  },
  {
   "cell_type": "code",
   "execution_count": 27,
   "metadata": {},
   "outputs": [
    {
     "name": "stdout",
     "output_type": "stream",
     "text": [
      "enter the side:2\n",
      "area of square is:\n",
      "4\n"
     ]
    }
   ],
   "source": [
    "#area of square\n",
    "a=int(input(\"enter the side:\"))\n",
    "area=a*a\n",
    "print(\"area of square is:\")\n",
    "print(area)"
   ]
  },
  {
   "cell_type": "code",
   "execution_count": 28,
   "metadata": {},
   "outputs": [
    {
     "name": "stdout",
     "output_type": "stream",
     "text": [
      "enter the radius:3\n",
      "circumference of circle is:\n",
      "18.84\n"
     ]
    }
   ],
   "source": [
    "#circumferance of circle\n",
    "r=float(input(\"enter the radius:\"))\n",
    "pi=3.14\n",
    "circumference=2*pi*r\n",
    "print(\"circumference of circle is:\")\n",
    "print(circumference)"
   ]
  },
  {
   "cell_type": "code",
   "execution_count": 1,
   "metadata": {},
   "outputs": [
    {
     "name": "stdout",
     "output_type": "stream",
     "text": [
      "Enter temperature in celsius: 37\n",
      "37.00 Celsius is: 98.60 Fahrenheit\n"
     ]
    }
   ],
   "source": [
    "#celcius to fahranheit\n",
    "celsius = float(input(\"Enter temperature in celsius: \"))\n",
    "fahrenheit = (celsius * 9/5) + 32\n",
    "print('%.2f Celsius is: %0.2f Fahrenheit' %(celsius, fahrenheit))\n"
   ]
  },
  {
   "cell_type": "code",
   "execution_count": 2,
   "metadata": {},
   "outputs": [
    {
     "name": "stdout",
     "output_type": "stream",
     "text": [
      "enter x value:2\n",
      "enter y value:3\n",
      "the value of x:3\n",
      "the value of y:2\n"
     ]
    }
   ],
   "source": [
    "#swapping two numbers\n",
    "x=input(\"enter x value:\")\n",
    "y=input(\"enter y value:\")\n",
    "temp=x\n",
    "x=y\n",
    "y=temp\n",
    "print (\"the value of x:{}\".format(x))\n",
    "print(\"the value of y:{}\".format(y))"
   ]
  },
  {
   "cell_type": "code",
   "execution_count": 7,
   "metadata": {},
   "outputs": [
    {
     "name": "stdout",
     "output_type": "stream",
     "text": [
      "Select operation.\n",
      "1.Add\n",
      "2.Subtract\n",
      "3.Multiply\n",
      "4.Divide\n",
      "5.modulus\n",
      "6.exponent\n",
      "7.floor division\n",
      "Enter choice(1/2/3/4/5/6/7):2\n",
      "Enter first number: 3\n",
      "Enter second number: 1\n",
      "3 - 1 = 2\n"
     ]
    }
   ],
   "source": [
    "#simple calculator\n",
    "def add(x, y):  \n",
    "   return x + y \n",
    "def subtract(x,y):\n",
    "   return x - y \n",
    "def multiply(x, y): \n",
    "   return x * y \n",
    "def divide(x, y):   \n",
    "   return x / y    \n",
    "print(\"Select operation.\")  \n",
    "print(\"1.Add\")  \n",
    "print(\"2.Subtract\")  \n",
    "print(\"3.Multiply\")  \n",
    "print(\"4.Divide\")\n",
    "print(\"5.modulus\")\n",
    "print(\"6.exponent\")\n",
    "print(\"7.floor division\")\n",
    "  \n",
    "choice = input(\"Enter choice(1/2/3/4/5/6/7):\")  \n",
    "  \n",
    "num1 = int(input(\"Enter first number: \"))  \n",
    "num2 = int(input(\"Enter second number: \"))  \n",
    "  \n",
    "if choice == '1':  \n",
    "   print(num1,\"+\",num2,\"=\", add(num1,num2))  \n",
    "elif choice == '2':  \n",
    "   print(num1,\"-\",num2,\"=\", subtract(num1,num2))  \n",
    "elif choice == '3':  \n",
    "   print(num1,\"*\",num2,\"=\", multiply(num1,num2))  \n",
    "elif choice == '4':  \n",
    "   print(num1,\"/\",num2,\"=\", divide(num1,num2))\n",
    "elif choice == '5':\n",
    "    print(num1,\"%\",num2,\"=\", modulus(num1,num2))\n",
    "elif choice == '6':\n",
    "    print(num1,'**',num2,\"=\",exponent(num1,num2))\n",
    "elif choice == '7':\n",
    "    print(num1,'//',num2,\"=\",floordivision(num1,num2))\n",
    "else:  \n",
    "   print(\"Invalid input\") \n"
   ]
  },
  {
   "cell_type": "code",
   "execution_count": null,
   "metadata": {},
   "outputs": [],
   "source": []
  }
 ],
 "metadata": {
  "kernelspec": {
   "display_name": "Python 3",
   "language": "python",
   "name": "python3"
  },
  "language_info": {
   "codemirror_mode": {
    "name": "ipython",
    "version": 3
   },
   "file_extension": ".py",
   "mimetype": "text/x-python",
   "name": "python",
   "nbconvert_exporter": "python",
   "pygments_lexer": "ipython3",
   "version": "3.8.3"
  }
 },
 "nbformat": 4,
 "nbformat_minor": 4
}
